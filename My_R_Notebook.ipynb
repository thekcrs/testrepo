{
 "cells": [
  {
   "cell_type": "markdown",
   "id": "ae520064-e95c-4018-a389-dfdd2716012d",
   "metadata": {},
   "source": [
    "# My First \"R\" Notebook\n",
    "\n",
    "My name is Kevin Rodriguez Siu, and this is my first Jupyter notebook using R. Don't forget to change the kernel so it's an R kernel before executing. "
   ]
  },
  {
   "cell_type": "markdown",
   "id": "f951ce2e-9375-46b1-b908-bde740321bec",
   "metadata": {},
   "source": [
    "## Problem 1: Find the Multiplication of 2 numbers"
   ]
  },
  {
   "cell_type": "code",
   "execution_count": 1,
   "id": "afd4b492-c6b9-49ab-af1b-90512de1a87e",
   "metadata": {},
   "outputs": [
    {
     "data": {
      "text/html": [
       "6"
      ],
      "text/latex": [
       "6"
      ],
      "text/markdown": [
       "6"
      ],
      "text/plain": [
       "[1] 6"
      ]
     },
     "metadata": {},
     "output_type": "display_data"
    }
   ],
   "source": [
    "2 * 3 # Multiplication"
   ]
  },
  {
   "cell_type": "markdown",
   "id": "fae16552-26fb-4cb3-8479-b245ad9d5be3",
   "metadata": {},
   "source": [
    "## Problem 2: Find the Substraction of 2 numbers"
   ]
  },
  {
   "cell_type": "code",
   "execution_count": 2,
   "id": "96c783d3-213f-481a-880a-76f1fd60f923",
   "metadata": {},
   "outputs": [
    {
     "data": {
      "text/html": [
       "3"
      ],
      "text/latex": [
       "3"
      ],
      "text/markdown": [
       "3"
      ],
      "text/plain": [
       "[1] 3"
      ]
     },
     "metadata": {},
     "output_type": "display_data"
    }
   ],
   "source": [
    "4 - 1 # Substraction"
   ]
  },
  {
   "cell_type": "markdown",
   "id": "a449aca8-c4a0-4e9b-9f5b-a9581a6dd565",
   "metadata": {},
   "source": [
    "## Problem 3: Add 2 to the given number. "
   ]
  },
  {
   "cell_type": "code",
   "execution_count": 3,
   "id": "c9428d4c-931e-4498-ad99-1c3c4ae69098",
   "metadata": {},
   "outputs": [
    {
     "data": {
      "text/html": [
       "3"
      ],
      "text/latex": [
       "3"
      ],
      "text/markdown": [
       "3"
      ],
      "text/plain": [
       "[1] 3"
      ]
     },
     "metadata": {},
     "output_type": "display_data"
    }
   ],
   "source": [
    "a <- 1 # Assigning 1 to the variable called \"a\"\n",
    "a + 2 # Adding 2"
   ]
  },
  {
   "cell_type": "markdown",
   "id": "197544f9-b4a2-4d21-81a9-d5c7a045bcdd",
   "metadata": {},
   "source": [
    "## Problem 4: Create a data frame"
   ]
  },
  {
   "cell_type": "code",
   "execution_count": 4,
   "id": "a4e3c4f1-c292-429c-a436-84fa67fe59d1",
   "metadata": {},
   "outputs": [
    {
     "name": "stdout",
     "output_type": "stream",
     "text": [
      "  Emp_Name  Job_Role\n",
      "1      Jai   Manager\n",
      "2    David Team Lead\n",
      "3  Michael Developer\n"
     ]
    }
   ],
   "source": [
    "df = data.frame( Emp_Name = c(\"Jai\", \"David\", \"Michael\"),\n",
    "                 Job_Role = c(\"Manager\",\"Team Lead\", \"Developer\")\n",
    "               )\n",
    "print(df)"
   ]
  },
  {
   "cell_type": "code",
   "execution_count": null,
   "id": "52236c10-b584-496b-a929-478b2f5e37f1",
   "metadata": {},
   "outputs": [],
   "source": []
  }
 ],
 "metadata": {
  "kernelspec": {
   "display_name": "R",
   "language": "R",
   "name": "ir"
  },
  "language_info": {
   "codemirror_mode": "r",
   "file_extension": ".r",
   "mimetype": "text/x-r-source",
   "name": "R",
   "pygments_lexer": "r",
   "version": "3.6.1"
  }
 },
 "nbformat": 4,
 "nbformat_minor": 5
}
